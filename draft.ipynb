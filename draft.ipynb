{
 "cells": [
  {
   "cell_type": "code",
   "execution_count": 16,
   "metadata": {},
   "outputs": [],
   "source": [
    "import numpy as np\n",
    "from itertools import product\n",
    "from dataclasses import dataclass\n",
    "import matplotlib.pyplot as plt"
   ]
  },
  {
   "cell_type": "markdown",
   "metadata": {},
   "source": [
    "Ref: https://github.com/jomavera/optimizationAlgosPort/blob/main/chap_14.ipynb"
   ]
  },
  {
   "cell_type": "markdown",
   "metadata": {},
   "source": [
    "# Algorithm 14.5 + 14.6"
   ]
  },
  {
   "cell_type": "code",
   "execution_count": 17,
   "metadata": {},
   "outputs": [],
   "source": [
    "def radial_bases(psi, C, p=2):\n",
    "    '''\n",
    "    - psi: a radial function\n",
    "    - C: list of centers\n",
    "    - p: L_p norm (default: L2)\n",
    "    '''\n",
    "    bases = [] # list of basis function, containing b_i(x)\n",
    "    for c in C:\n",
    "        func = lambda x, c=c: psi(np.linalg.norm(x-c, p)) # psi(||x-x^(i)||), với c = x^(i)\n",
    "        # def func(x,c=c):\n",
    "        #     return psi(np.linalg.norm(x-c,p))\n",
    "        \n",
    "        bases.append(func)\n",
    "    return bases\n",
    "\n",
    "def regression(X, y, bases, lamb):\n",
    "    B = np.array([[b(x) for b in bases] for x in X]) # basis matrix\n",
    "    theta = np.linalg.inv((B.T @ B + lamb * np.identity(len(bases)))) @ B.T @ y\n",
    "    # theta = np.linalg.solve(np.matmul(B.T,B) + np.diag(lamb*np.ones((len(bases),1))),np.matmul(B.T,y))\n",
    "    return lambda x: np.sum([theta[i]*bases[i](x) for i in range(len(theta))])"
   ]
  },
  {
   "cell_type": "markdown",
   "metadata": {},
   "source": [
    "## Algorithm 14.7:"
   ]
  },
  {
   "cell_type": "code",
   "execution_count": 18,
   "metadata": {},
   "outputs": [],
   "source": [
    "@dataclass\n",
    "class TrainTest:\n",
    "    train: list\n",
    "    test: list\n",
    "    \n",
    "def train_and_validate(X, y, tt, fit, metric):\n",
    "    model = fit(X[tt.train], y[tt.train])\n",
    "    return metric(model, X[tt.test], y[tt.test])"
   ]
  },
  {
   "cell_type": "markdown",
   "metadata": {},
   "source": [
    "# TEST"
   ]
  },
  {
   "cell_type": "code",
   "execution_count": 19,
   "metadata": {},
   "outputs": [],
   "source": [
    "def polynomial_bases_1d(i,k): # polynomial cho 1 cột của x: 1,x,x^2,x^3,...\n",
    "    f = lambda x: np.power(x[i], np.arange(0,k+1,1))\n",
    "    return f\n",
    "\n",
    "def polynomial_bases(n,k):\n",
    "    bases = [polynomial_bases_1d(i, k) for i in range(n)]\n",
    "    terms = []\n",
    "    i = 0\n",
    "    \n",
    "    for ks in product(*[np.arange(0,k+1) for _ in range(n)]): # cartesian product: [[0,0], [0,1],...,(3,3)]\n",
    "        if np.sum(ks) <= k: # DK trong CT 14.19: i+j<=k\n",
    "            def func(x, ks=ks):\n",
    "                res = np.prod([b(x)[j] for j, b in zip(ks,bases)]) # CT 14.19 tính b_{ij}(x) = x_1^i * x_2^j\n",
    "                # print(x, ks, res)\n",
    "                return res \n",
    "            terms.append(func)\n",
    "            \n",
    "            # print('terms: ', i)\n",
    "            # i+=1\n",
    "\n",
    "    return terms"
   ]
  },
  {
   "cell_type": "code",
   "execution_count": 20,
   "metadata": {},
   "outputs": [
    {
     "name": "stdout",
     "output_type": "stream",
     "text": [
      "ks: (0, 0)\n",
      "1\n",
      "ks: (0, 1)\n",
      "3\n",
      "ks: (0, 2)\n",
      "9\n",
      "ks: (0, 3)\n",
      "27\n",
      "ks: (1, 0)\n",
      "2\n",
      "ks: (1, 1)\n",
      "6\n",
      "ks: (1, 2)\n",
      "18\n",
      "ks: (2, 0)\n",
      "4\n",
      "ks: (2, 1)\n",
      "12\n",
      "ks: (3, 0)\n",
      "8\n"
     ]
    }
   ],
   "source": [
    "##\n",
    "n, k = 2, 3 # 1 data point có 2 cột\n",
    "x = [2,3]\n",
    "bases = [polynomial_bases_1d(i, k) for i in range(n)] # với từng thuộc tính (col), mũ hóa nó lên\n",
    "\n",
    "for ks in product(*[np.arange(0,k+1) for i in range(n)]): # loop qua từng mũ có thể có: [[0,0], [0,1],...,(3,3)]\n",
    "    if np.sum(ks) <= k:\n",
    "        print(f'ks: {ks}')\n",
    "\n",
    "        l = np.prod([b(x)[j] for j, b in zip(ks,bases)]) # tính b_{ij}(x) = x_1^i * x_2^j, lưu trong terms, chú ý term khác với parameter theta\n",
    "        print(l)\n",
    "        # break\n",
    "    # break\n",
    "    # print(np.sum(ks))\n",
    "    "
   ]
  },
  {
   "cell_type": "code",
   "execution_count": 27,
   "metadata": {},
   "outputs": [
    {
     "name": "stdout",
     "output_type": "stream",
     "text": [
      "35.52256700620834\n"
     ]
    }
   ],
   "source": [
    "np.random.seed(35912)\n",
    "bases = polynomial_bases(2,3)\n",
    "X = np.array([[1.0, 5.0],\n",
    "              [2.0, 2.0],\n",
    "              [3.0, 2.0],\n",
    "              [4.0, 2.0]])\n",
    "\n",
    "y = np.array([2, 2, 5, 8]).reshape(-1,1)\n",
    "\n",
    "lmb=[0.3 for i in range(len(bases))]\n",
    "model = regression(X,y,bases,lmb)\n",
    "print(model([4,6,7]))"
   ]
  },
  {
   "cell_type": "code",
   "execution_count": null,
   "metadata": {},
   "outputs": [
    {
     "data": {
      "text/plain": [
       "10"
      ]
     },
     "execution_count": 13,
     "metadata": {},
     "output_type": "execute_result"
    }
   ],
   "source": [
    "len(bases) # do có 10 ks thỏa <= k"
   ]
  }
 ],
 "metadata": {
  "interpreter": {
   "hash": "0d591c6e422414675974e227c13f5382000c440fedd3c5006ef2be5d887f0ba7"
  },
  "kernelspec": {
   "display_name": "Python 3.9.6 64-bit",
   "language": "python",
   "name": "python3"
  },
  "language_info": {
   "codemirror_mode": {
    "name": "ipython",
    "version": 3
   },
   "file_extension": ".py",
   "mimetype": "text/x-python",
   "name": "python",
   "nbconvert_exporter": "python",
   "pygments_lexer": "ipython3",
   "version": "3.9.6"
  },
  "orig_nbformat": 4
 },
 "nbformat": 4,
 "nbformat_minor": 2
}
