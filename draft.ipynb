{
 "cells": [
  {
   "cell_type": "code",
   "execution_count": 2,
   "metadata": {},
   "outputs": [],
   "source": [
    "import numpy as np\n",
    "from itertools import product\n",
    "from dataclasses import dataclass\n",
    "import matplotlib.pyplot as plt"
   ]
  },
  {
   "cell_type": "markdown",
   "metadata": {},
   "source": [
    "Ref: https://github.com/jomavera/optimizationAlgosPort/blob/main/chap_14.ipynb"
   ]
  },
  {
   "cell_type": "code",
   "execution_count": 3,
   "metadata": {},
   "outputs": [
    {
     "data": {
      "text/plain": [
       "array([9, 4, 5, 2, 1, 8, 6, 3, 0, 7])"
      ]
     },
     "execution_count": 3,
     "metadata": {},
     "output_type": "execute_result"
    }
   ],
   "source": [
    "perm = np.random.permutation(10)\n",
    "perm"
   ]
  },
  {
   "cell_type": "code",
   "execution_count": 5,
   "metadata": {},
   "outputs": [
    {
     "data": {
      "text/plain": [
       "array([2, 3, 4, 5, 7, 8, 9])"
      ]
     },
     "execution_count": 5,
     "metadata": {},
     "output_type": "execute_result"
    }
   ],
   "source": [
    "i = 1; m = 10; k = 5\n",
    "\n",
    "np.setdiff1d(np.arange(i,m), np.arange(i,m,k))"
   ]
  },
  {
   "cell_type": "code",
   "execution_count": 7,
   "metadata": {},
   "outputs": [
    {
     "data": {
      "text/plain": [
       "array([4, 6])"
      ]
     },
     "execution_count": 7,
     "metadata": {},
     "output_type": "execute_result"
    }
   ],
   "source": [
    "perm[i:m:k]"
   ]
  },
  {
   "cell_type": "markdown",
   "metadata": {},
   "source": [
    "# Algorithm 14.5 + 14.6"
   ]
  },
  {
   "cell_type": "code",
   "execution_count": 17,
   "metadata": {},
   "outputs": [],
   "source": [
    "def radial_bases(psi, C, p=2):\n",
    "    '''\n",
    "    - psi: a radial function\n",
    "    - C: list of centers\n",
    "    - p: L_p norm (default: L2)\n",
    "    '''\n",
    "    bases = [] # list of basis function, containing b_i(x)\n",
    "    for c in C:\n",
    "        func = lambda x, c=c: psi(np.linalg.norm(x-c, p)) # psi(||x-x^(i)||), với c = x^(i)\n",
    "        bases.append(func)\n",
    "    return bases\n",
    "\n",
    "def regression(X, y, bases, lamb):\n",
    "    B = np.array([[b(x) for b in bases] for x in X]) # basis matrix\n",
    "    theta = np.linalg.inv((B.T @ B + lamb * np.identity(len(bases)))) @ B.T @ y\n",
    "    # theta = np.linalg.solve(np.matmul(B.T,B) + np.diag(lamb*np.ones((len(bases),1))),np.matmul(B.T,y))\n",
    "    return lambda x: np.sum([theta[i]*bases[i](x) for i in range(len(theta))])"
   ]
  },
  {
   "cell_type": "markdown",
   "metadata": {},
   "source": [
    "## Algorithm 14.7:"
   ]
  },
  {
   "cell_type": "code",
   "execution_count": 18,
   "metadata": {},
   "outputs": [],
   "source": [
    "@dataclass\n",
    "class TrainTest:\n",
    "    train: list\n",
    "    test: list\n",
    "    \n",
    "def train_and_validate(X, y, tt, fit, metric):\n",
    "    model = fit(X[tt.train], y[tt.train])\n",
    "    return metric(model, X[tt.test], y[tt.test])"
   ]
  },
  {
   "cell_type": "markdown",
   "metadata": {},
   "source": [
    "# TEST"
   ]
  },
  {
   "cell_type": "code",
   "execution_count": 19,
   "metadata": {},
   "outputs": [],
   "source": [
    "def polynomial_bases_1d(i,k): # polynomial cho 1 cột của x: 1,x,x^2,x^3,...\n",
    "    f = lambda x: np.power(x[i], np.arange(0,k+1,1))\n",
    "    return f\n",
    "\n",
    "def polynomial_bases(n,k):\n",
    "    bases = [polynomial_bases_1d(i, k) for i in range(n)]\n",
    "    terms = []\n",
    "    i = 0\n",
    "    \n",
    "    for ks in product(*[np.arange(0,k+1) for _ in range(n)]): # cartesian product: [[0,0], [0,1],...,(3,3)]\n",
    "        if np.sum(ks) <= k: # DK trong CT 14.19: i+j<=k\n",
    "            def func(x, ks=ks):\n",
    "                res = np.prod([b(x)[j] for j, b in zip(ks,bases)]) # CT 14.19 tính b_{ij}(x) = x_1^i * x_2^j\n",
    "                # print(x, ks, res)\n",
    "                return res \n",
    "            terms.append(func)\n",
    "            \n",
    "            # print('terms: ', i)\n",
    "            # i+=1\n",
    "\n",
    "    return terms"
   ]
  },
  {
   "cell_type": "code",
   "execution_count": null,
   "metadata": {},
   "outputs": [],
   "source": [
    "##\n",
    "n, k = 2, 3 # 1 data point có 2 cột\n",
    "x = [2,3]\n",
    "bases = [polynomial_bases_1d(i, k) for i in range(n)] # với từng thuộc tính (col), mũ hóa nó lên\n",
    "\n",
    "for ks in product(*[np.arange(0,k+1) for i in range(n)]): # loop qua từng mũ có thể có: [[0,0], [0,1],...,(3,3)]\n",
    "    if np.sum(ks) <= k:\n",
    "        print(f'ks: {ks}')\n",
    "\n",
    "        l = np.prod([b(x)[j] for j, b in zip(ks,bases)]) # tính b_{ij}(x) = x_1^i * x_2^j, lưu trong terms, chú ý term khác với parameter theta\n",
    "        print(l)\n",
    "        # break\n",
    "    # break\n",
    "    # print(np.sum(ks))\n",
    "    "
   ]
  },
  {
   "cell_type": "markdown",
   "metadata": {},
   "source": [
    "- test 1"
   ]
  },
  {
   "cell_type": "code",
   "execution_count": 27,
   "metadata": {},
   "outputs": [
    {
     "name": "stdout",
     "output_type": "stream",
     "text": [
      "35.52256700620834\n"
     ]
    }
   ],
   "source": [
    "np.random.seed(35912)\n",
    "bases = polynomial_bases(2,3)\n",
    "X = np.array([[1.0, 5.0],\n",
    "              [2.0, 2.0],\n",
    "              [3.0, 2.0],\n",
    "              [4.0, 2.0]])\n",
    "\n",
    "y = np.array([2, 2, 5, 8]).reshape(-1,1)\n",
    "\n",
    "lmb=[0.3 for i in range(len(bases))]\n",
    "model = regression(X,y,bases,lmb)\n",
    "print(model([4,6,7]))"
   ]
  },
  {
   "cell_type": "code",
   "execution_count": null,
   "metadata": {},
   "outputs": [
    {
     "data": {
      "text/plain": [
       "10"
      ]
     },
     "execution_count": 13,
     "metadata": {},
     "output_type": "execute_result"
    }
   ],
   "source": [
    "len(bases) # do có 10 ks thỏa <= k"
   ]
  },
  {
   "cell_type": "markdown",
   "metadata": {},
   "source": [
    "- test 2"
   ]
  },
  {
   "cell_type": "code",
   "execution_count": 29,
   "metadata": {},
   "outputs": [],
   "source": [
    "# algo 14.10\n",
    "def k_fold_cross_validation_sets(m, k):\n",
    "    perm = np.random.permutation(m)\n",
    "    sets = []\n",
    "    for i in range(k):\n",
    "        validate = perm[i:m:k]\n",
    "        train = perm[np.setdiff1d(np.arange(i,m),np.arange(i,m,k))]\n",
    "        sets.append(TrainTest(train, validate))\n",
    "    return sets\n",
    "\n",
    "def cross_validation_estimate(X, y, sets, fit, metric):\n",
    "    return np.mean([train_and_validate(X, y, tt, fit, metric) for tt in sets])"
   ]
  },
  {
   "cell_type": "code",
   "execution_count": 30,
   "metadata": {},
   "outputs": [],
   "source": [
    "np.random.seed(0)\n",
    "f = lambda x:np.sin(2*x)*np.cos(10*x)\n",
    "\n",
    "# ---- Data generated in Julia with seed 0 to resemble results from book ---- #\n",
    "X = np.array([0.8236475079774124, \n",
    "0.9103565379264364, \n",
    "0.16456579813368521, \n",
    "0.17732884646626457, \n",
    "0.278880109331201, \n",
    "0.20347655804192266,\n",
    "0.042301665932029664,\n",
    "0.06826925550564478,\n",
    "0.3618283907762174,\n",
    "0.9732164043865108]).reshape(-1,1)\n",
    "\n",
    "y =np.array([ -0.4410340396417118,\n",
    " -0.9956556536332956,\n",
    "  0.015573949795123155,\n",
    "  0.01132320974198503,\n",
    " -0.5313248333867803,\n",
    " -0.19588413875990168,\n",
    " -0.08367168413613427,\n",
    " -0.14247105758074852,\n",
    " -0.3606906314525021,\n",
    " -0.8647008769320896]).reshape(-1,1)\n",
    "\n",
    "# ------------------------------------------- #\n",
    "\n",
    "\n",
    "sets = k_fold_cross_validation_sets(X.shape[0],3)\n",
    "\n",
    "def metric(f, X, y): # MSE metric\n",
    "    m = X.shape[0]\n",
    "    return np.sum([(f(X[i])-y[i])**2 for i in range(m)])/m\n",
    "\n",
    "lambda_s = 10**np.linspace(-4,2,101, dtype=np.float64)\n",
    "es = []\n",
    "basis = lambda r: np.exp(-5*r**2)\n",
    "for lambd in lambda_s:\n",
    "    def fit(X,y,lambd=lambd):\n",
    "        bases = radial_bases(basis,X)\n",
    "        return regression(X, y, bases, lambd)\n",
    "    es.append(cross_validation_estimate(X, y, sets, fit, metric))"
   ]
  },
  {
   "cell_type": "code",
   "execution_count": 31,
   "metadata": {},
   "outputs": [
    {
     "data": {
      "text/plain": [
       "[<matplotlib.lines.Line2D at 0x2072e8976d0>]"
      ]
     },
     "execution_count": 31,
     "metadata": {},
     "output_type": "execute_result"
    },
    {
     "data": {
      "image/png": "[encoded data removed]",
      "text/plain": [
       "<Figure size 432x288 with 1 Axes>"
      ]
     },
     "metadata": {
      "needs_background": "light"
     },
     "output_type": "display_data"
    }
   ],
   "source": [
    "plt.semilogx(lambda_s,es)"
   ]
  },
  {
   "cell_type": "code",
   "execution_count": 32,
   "metadata": {},
   "outputs": [
    {
     "data": {
      "text/plain": [
       "array([1.00000000e-04, 1.14815362e-04, 1.31825674e-04, 1.51356125e-04,\n",
       "       1.73780083e-04, 1.99526231e-04, 2.29086765e-04, 2.63026799e-04,\n",
       "       3.01995172e-04, 3.46736850e-04, 3.98107171e-04, 4.57088190e-04,\n",
       "       5.24807460e-04, 6.02559586e-04, 6.91830971e-04, 7.94328235e-04,\n",
       "       9.12010839e-04, 1.04712855e-03, 1.20226443e-03, 1.38038426e-03,\n",
       "       1.58489319e-03, 1.81970086e-03, 2.08929613e-03, 2.39883292e-03,\n",
       "       2.75422870e-03, 3.16227766e-03, 3.63078055e-03, 4.16869383e-03,\n",
       "       4.78630092e-03, 5.49540874e-03, 6.30957344e-03, 7.24435960e-03,\n",
       "       8.31763771e-03, 9.54992586e-03, 1.09647820e-02, 1.25892541e-02,\n",
       "       1.44543977e-02, 1.65958691e-02, 1.90546072e-02, 2.18776162e-02,\n",
       "       2.51188643e-02, 2.88403150e-02, 3.31131121e-02, 3.80189396e-02,\n",
       "       4.36515832e-02, 5.01187234e-02, 5.75439937e-02, 6.60693448e-02,\n",
       "       7.58577575e-02, 8.70963590e-02, 1.00000000e-01, 1.14815362e-01,\n",
       "       1.31825674e-01, 1.51356125e-01, 1.73780083e-01, 1.99526231e-01,\n",
       "       2.29086765e-01, 2.63026799e-01, 3.01995172e-01, 3.46736850e-01,\n",
       "       3.98107171e-01, 4.57088190e-01, 5.24807460e-01, 6.02559586e-01,\n",
       "       6.91830971e-01, 7.94328235e-01, 9.12010839e-01, 1.04712855e+00,\n",
       "       1.20226443e+00, 1.38038426e+00, 1.58489319e+00, 1.81970086e+00,\n",
       "       2.08929613e+00, 2.39883292e+00, 2.75422870e+00, 3.16227766e+00,\n",
       "       3.63078055e+00, 4.16869383e+00, 4.78630092e+00, 5.49540874e+00,\n",
       "       6.30957344e+00, 7.24435960e+00, 8.31763771e+00, 9.54992586e+00,\n",
       "       1.09647820e+01, 1.25892541e+01, 1.44543977e+01, 1.65958691e+01,\n",
       "       1.90546072e+01, 2.18776162e+01, 2.51188643e+01, 2.88403150e+01,\n",
       "       3.31131121e+01, 3.80189396e+01, 4.36515832e+01, 5.01187234e+01,\n",
       "       5.75439937e+01, 6.60693448e+01, 7.58577575e+01, 8.70963590e+01,\n",
       "       1.00000000e+02])"
      ]
     },
     "execution_count": 32,
     "metadata": {},
     "output_type": "execute_result"
    }
   ],
   "source": [
    "lambda_s"
   ]
  }
 ],
 "metadata": {
  "interpreter": {
   "hash": "0d591c6e422414675974e227c13f5382000c440fedd3c5006ef2be5d887f0ba7"
  },
  "kernelspec": {
   "display_name": "Python 3.9.6 64-bit",
   "language": "python",
   "name": "python3"
  },
  "language_info": {
   "codemirror_mode": {
    "name": "ipython",
    "version": 3
   },
   "file_extension": ".py",
   "mimetype": "text/x-python",
   "name": "python",
   "nbconvert_exporter": "python",
   "pygments_lexer": "ipython3",
   "version": "3.9.6"
  },
  "orig_nbformat": 4
 },
 "nbformat": 4,
 "nbformat_minor": 2
}
